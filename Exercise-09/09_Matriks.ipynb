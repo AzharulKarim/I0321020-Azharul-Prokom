{
 "cells": [
  {
   "cell_type": "markdown",
   "metadata": {},
   "source": [
    "# Exercise 09  \n",
    "### OPERASI MATRIKS  \n",
    "Silahkan lengkapi kode yang rumpang sesuai perintah yang diberikan.\n"
   ]
  },
  {
   "cell_type": "markdown",
   "metadata": {},
   "source": [
    "![](./image/1.png)"
   ]
  },
  {
   "cell_type": "code",
   "execution_count": 4,
   "metadata": {},
   "outputs": [
    {
     "name": "stdout",
     "output_type": "stream",
     "text": [
      "[[24, 24], [24, 24]]\n",
      "[[16, 16], [16, 16]]\n"
     ]
    }
   ],
   "source": [
    "A = [[24,24],\n",
    "     [24,24]]\n",
    "\n",
    "B = [[16, 16],\n",
    "     [16, 16]]\n",
    "\n",
    "print(A)\n",
    "print(B)"
   ]
  },
  {
   "cell_type": "markdown",
   "metadata": {},
   "source": [
    "Buatlah matriks menggunakan metode perulangan for dengan ketentuan sebagai berikut:\n",
    "* Matriks A berisi angka sebesar 4 setelah nim kalian. (ex: nim = 12, nilai matriks [16, 16],[16,16])\n",
    "* Matriks B berisi angka sebesar 4 sebelum nim kalian. (ex: nim = 12, nilai matriks [8, 8],[8,8])\n"
   ]
  },
  {
   "cell_type": "code",
   "execution_count": 3,
   "metadata": {},
   "outputs": [
    {
     "name": "stdout",
     "output_type": "stream",
     "text": [
      "[[24, 24], [24, 24]]\n",
      "[[16, 16], [16, 16]]\n"
     ]
    }
   ],
   "source": [
    "def create(matriks, nim):\n",
    "    for i in range(2):\n",
    "        for k in range(2):\n",
    "            matriks[i][k] = nim \n",
    "create(A, 24)\n",
    "create(B, 16)\n",
    "\n",
    "print(A)\n",
    "print(B)"
   ]
  },
  {
   "cell_type": "markdown",
   "metadata": {},
   "source": [
    "## KERJAKAN SOAL BERIKUT\n",
    "1. Buatlah program penjumlahan matriks A dan B.\n",
    "2. Buatlah program pengurangan matriks A dan B.\n",
    "3. Buatlah program perkalian matriks A dan B."
   ]
  },
  {
   "cell_type": "code",
   "execution_count": 19,
   "metadata": {},
   "outputs": [
    {
     "name": "stdout",
     "output_type": "stream",
     "text": [
      "[ 40 40 ]\n",
      "[ 40 40 ]\n"
     ]
    }
   ],
   "source": [
    "#SOAL-1\n",
    "A = [\n",
    "    [24, 24],\n",
    "    [24, 24],\n",
    "]\n",
    "\n",
    "B = [\n",
    "    [16, 16],\n",
    "    [16, 16],\n",
    "]\n",
    "\n",
    "for x in range(len(A)):\n",
    "    print(\"[\", end=\" \")\n",
    "    for y in range(len(A[0])):\n",
    "        penjumlahan= A[x][y] + B[x][y]\n",
    "        print(penjumlahan, end=\" \")\n",
    "    print(\"]\")"
   ]
  },
  {
   "cell_type": "code",
   "execution_count": 18,
   "metadata": {},
   "outputs": [
    {
     "name": "stdout",
     "output_type": "stream",
     "text": [
      "[ 8 8 ]\n",
      "[ 8 8 ]\n"
     ]
    }
   ],
   "source": [
    "#SOAL-2\n",
    "A = [\n",
    "    [24, 24],\n",
    "    [24, 24],\n",
    "]\n",
    "\n",
    "B = [\n",
    "    [16, 16],\n",
    "    [16, 16],\n",
    "]\n",
    "\n",
    "for x in range(len(A)):\n",
    "    print(\"[\", end=\" \")\n",
    "    for y in range(len(A[0])):\n",
    "        pengurangan= A[x][y] - B[x][y]\n",
    "        print(pengurangan, end=\" \")\n",
    "    print(\"]\")"
   ]
  },
  {
   "cell_type": "code",
   "execution_count": 17,
   "metadata": {},
   "outputs": [
    {
     "name": "stdout",
     "output_type": "stream",
     "text": [
      "[ 384 384 ]\n",
      "[ 384 384 ]\n"
     ]
    }
   ],
   "source": [
    "#SOAL-3\n",
    "A = [\n",
    "    [24, 24],\n",
    "    [24, 24],\n",
    "]\n",
    "\n",
    "B = [\n",
    "    [16, 16],\n",
    "    [16, 16],\n",
    "]\n",
    "\n",
    "for x in range(len(A)):\n",
    "    print(\"[\", end=\" \")\n",
    "    for y in range(len(A[0])):\n",
    "        perkalian= A[x][y] * B[x][y]\n",
    "        print(perkalian, end=\" \")\n",
    "    print(\"]\")"
   ]
  },
  {
   "cell_type": "markdown",
   "metadata": {},
   "source": [
    "### Cara Pengumpulan\n",
    "\n",
    "1. Buka *New Terminal*\n",
    "2. Pastikan *path* Terminal adalah folder repositori kalian (NIM-Nama-Prokom).\n",
    "3. Tambahkan file yang akan ditrack dengan `git add <nama file>`. Nama file bisa diubah . (titik)  `git add .`yang artinya semua file dalam folder akan ditrack.\n",
    "4. Lakukan commit perubahan dengan `git commit -m <deskripsi>`.\n",
    "5. Lakukan push dengan `git push -u origin <nama branch>`. Nama branch dapat diketahui dengan `git branch`.\n",
    "6. Pastikan Exercise-02 telah terupload dan dapat diakses di repositori dengan mengaksesnya di browser."
   ]
  }
 ],
 "metadata": {
  "interpreter": {
   "hash": "afb734500600fd355917ca529030176ea0ca205570884b88f2f6f7d791fd3fbe"
  },
  "kernelspec": {
   "display_name": "Python 3.10.2 64-bit",
   "language": "python",
   "name": "python3"
  },
  "language_info": {
   "codemirror_mode": {
    "name": "ipython",
    "version": 3
   },
   "file_extension": ".py",
   "mimetype": "text/x-python",
   "name": "python",
   "nbconvert_exporter": "python",
   "pygments_lexer": "ipython3",
   "version": "3.10.2"
  },
  "orig_nbformat": 4
 },
 "nbformat": 4,
 "nbformat_minor": 2
}
