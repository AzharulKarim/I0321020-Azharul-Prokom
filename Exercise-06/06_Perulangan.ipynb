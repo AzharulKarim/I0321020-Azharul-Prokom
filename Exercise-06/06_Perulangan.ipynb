{
 "cells": [
  {
   "cell_type": "markdown",
   "metadata": {},
   "source": [
    "***\n",
    "<h1 align=\"center\">Exercise 06</h1>\n",
    " \n",
    "***\n",
    "## While Loop\n",
    "## Exercise 6.1\n",
    "isilah bagian rumpang berikut. xx diganti tanggal lahir dan yy diganti menjadi bulan lahir. tandanya menyesuaikan yang lebih besar."
   ]
  },
  {
   "cell_type": "code",
   "execution_count": 2,
   "metadata": {},
   "outputs": [
    {
     "name": "stdout",
     "output_type": "stream",
     "text": [
      "Life is Short, Be carefull\n",
      "Life is Short, Be carefull\n",
      "Life is Short, Be carefull\n",
      "Life is Short, Be carefull\n",
      "Life is Short, Be carefull\n",
      "Life is Short, Be carefull\n",
      "Life is Short, Be carefull\n",
      "Life is Short, Be carefull\n",
      "Life is Short, Be carefull\n",
      "Life is Short, Be carefull\n",
      "Life is Short, Be carefull\n",
      "Life is Short, Be carefull\n",
      "Life is Short, Be carefull\n"
     ]
    }
   ],
   "source": [
    "#menentukan banyak pengulangan\n",
    "n = 14\n",
    "\n",
    "#melakukan pengulangan\n",
    "i = 2\n",
    "\n",
    "while i <= n :\n",
    "    print (\"Life is Short, Be carefull\")\n",
    "    #diisi motto kalian\n",
    "    i = i + 1 # sesuaikan dengan atas agar fungsi perulangan dapat berhenti\n"
   ]
  },
  {
   "cell_type": "markdown",
   "metadata": {},
   "source": [
    "## Exercise 6.2\n",
    "\n",
    "Buatlah code seperti yang dicontohkan pada modul agar user dapat menginputkan sendiri jumlah n yang diinginkan"
   ]
  },
  {
   "cell_type": "code",
   "execution_count": 11,
   "metadata": {},
   "outputs": [
    {
     "name": "stdout",
     "output_type": "stream",
     "text": [
      "Life is Short, Be carefull\n",
      "Life is Short, Be carefull\n",
      "Life is Short, Be carefull\n",
      "Life is Short, Be carefull\n",
      "Life is Short, Be carefull\n",
      "Life is Short, Be carefull\n",
      "Life is Short, Be carefull\n",
      "Life is Short, Be carefull\n",
      "Life is Short, Be carefull\n",
      "Life is Short, Be carefull\n",
      "Life is Short, Be carefull\n",
      "Life is Short, Be carefull\n",
      "Life is Short, Be carefull\n"
     ]
    }
   ],
   "source": [
    "#Kerjakan disini\n",
    "n = int(input(\"Masukkan nilai n: \"))\n",
    "i = 2\n",
    "\n",
    "while i <= n :\n",
    "    print (\"Life is Short, Be carefull\")\n",
    "    i = i + 1"
   ]
  },
  {
   "cell_type": "markdown",
   "metadata": {},
   "source": [
    "## Excercise 6.3\n",
    "\n",
    "isilah xx, yy, dan tanda rumpang seperti pada exercise 6.1\n"
   ]
  },
  {
   "cell_type": "code",
   "execution_count": 23,
   "metadata": {},
   "outputs": [
    {
     "name": "stdout",
     "output_type": "stream",
     "text": [
      "Baris ke-14 : Kimi no Nawa\n",
      "Baris ke-13 : Kimi no Nawa\n",
      "Baris ke-12 : Kimi no Nawa\n",
      "Baris ke-11 : Kimi no Nawa\n",
      "Baris ke-10 : Kimi no Nawa\n",
      "Baris ke-9 : Kimi no Nawa\n",
      "Baris ke-8 : Kimi no Nawa\n",
      "Baris ke-7 : Kimi no Nawa\n",
      "Baris ke-6 : Kimi no Nawa\n",
      "Baris ke-5 : Kimi no Nawa\n",
      "Baris ke-4 : Kimi no Nawa\n",
      "Baris ke-3 : Kimi no Nawa\n",
      "Baris ke-2 : Kimi no Nawa\n"
     ]
    }
   ],
   "source": [
    "#melakukan pengulangan\n",
    "i = 14\n",
    "\n",
    "while i >= 2 :\n",
    "    print (\"Baris ke-%d : Kimi no Nawa\"%i)\n",
    "    #isi titik-titik dengan judul film favorit kalian\n",
    "    i = i - 1"
   ]
  },
  {
   "cell_type": "markdown",
   "metadata": {},
   "source": [
    "## FOR LOOP\n",
    "\n",
    "## Exercise 6.4\n",
    "\n",
    "munculkan 3 dari 7 elemen yang berada di dalam list1 dan list2\n"
   ]
  },
  {
   "cell_type": "code",
   "execution_count": 17,
   "metadata": {},
   "outputs": [
    {
     "name": "stdout",
     "output_type": "stream",
     "text": [
      "1 Sate Ayam Ponorogo\n",
      "2 Nasi Goreng Solo\n",
      "3 Magelangan Jogja\n"
     ]
    }
   ],
   "source": [
    "list1 = [\"Sate Ayam\", \"Nasi Goreng\", \"Magelangan\", \"Mie Kuah\", \"Soto Ayam\", \"Rawon\", \"Ayam Geprek\"] #masukkan 7 list makanan favorit kalian\n",
    "list2 = [\"Ponorogo\", \"Solo\", \"Jogja\", \"Madiun\", \"Magetan\", \"Bandung\", \"Banyuwangi\"] #masukkan 7 list kota favorit kalian\n",
    "\n",
    "for i in range(0,3) :\n",
    "    print(i+1, list1[i] , list2[i])"
   ]
  },
  {
   "cell_type": "markdown",
   "metadata": {},
   "source": [
    "## Perulangan Bersarang\n",
    "\n",
    "## Exercise 6.5"
   ]
  },
  {
   "cell_type": "code",
   "execution_count": 18,
   "metadata": {},
   "outputs": [
    {
     "name": "stdout",
     "output_type": "stream",
     "text": [
      "196 \n",
      "210 225 \n",
      "224 240 256 \n",
      "238 255 272 289 \n",
      "252 270 288 306 324 \n",
      "266 285 304 323 342 361 \n",
      "280 300 320 340 360 380 400 \n"
     ]
    }
   ],
   "source": [
    "i = 14\n",
    "while i <= 20:\n",
    "    j = 14\n",
    "    while j<=i:\n",
    "        print(\"%d \" % (i*j), end = '')\n",
    "        j = j + 1\n",
    "    print()\n",
    "    i+=1"
   ]
  },
  {
   "cell_type": "markdown",
   "metadata": {},
   "source": [
    "## Pernyataan Loncat\n",
    "\n",
    "## Exercise 6.\n",
    "\n",
    "Buatlah fungsi berikut agar muncul angka hingga berhenti sesuai dengan nilai qq\n",
    "qq = angka favorit kalian\n",
    "pp>qq"
   ]
  },
  {
   "cell_type": "code",
   "execution_count": 20,
   "metadata": {},
   "outputs": [
    {
     "name": "stdout",
     "output_type": "stream",
     "text": [
      "01234567891011121314"
     ]
    }
   ],
   "source": [
    "for i in range(20):\n",
    "    print(i,end='')\n",
    "    if i == 14:\n",
    "        break"
   ]
  },
  {
   "cell_type": "markdown",
   "metadata": {},
   "source": [
    "***\n",
    "<h1 align=\"center\">WELL DONE</h1>\n",
    " \n",
    "***"
   ]
  }
 ],
 "metadata": {
  "interpreter": {
   "hash": "cd08f94adcf3cbae37fe85286256f4c2a10455ca9094fd053e9f3d3f09647223"
  },
  "kernelspec": {
   "display_name": "Python 3.9.7 64-bit",
   "language": "python",
   "name": "python3"
  },
  "language_info": {
   "codemirror_mode": {
    "name": "ipython",
    "version": 3
   },
   "file_extension": ".py",
   "mimetype": "text/x-python",
   "name": "python",
   "nbconvert_exporter": "python",
   "pygments_lexer": "ipython3",
   "version": "3.10.2"
  },
  "orig_nbformat": 4
 },
 "nbformat": 4,
 "nbformat_minor": 2
}
